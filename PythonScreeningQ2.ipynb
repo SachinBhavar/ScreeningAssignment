{
 "cells": [
  {
   "cell_type": "markdown",
   "id": "ed8703c1",
   "metadata": {},
   "source": [
    "### 2. Demonstrate use of abstract class, multiple inheritance and decorator in python using examples."
   ]
  },
  {
   "cell_type": "markdown",
   "id": "d5fb9acf",
   "metadata": {},
   "source": [
    "# Abstract Class:\n",
    "    In OOP's abstract class is a class that cannot be instantiated,but we can create classes that inherit from abstract classes\n",
    "    Typically, you use an abstract class to create a blueprint for other classes.\n",
    "    An abstract method is an method without an implementation. \n",
    "    An abstract class may or may not include abstract methods.\n",
    "    Python doesn’t directly support abstract classes. But it does offer a module that allows you to define abstract classes.\n",
    "    To define an abstract class, you use the abc (abstract base class) module.\n",
    "    The abc module provides you with the infrastructure for defining abstract base classes.\n",
    "\n",
    "For example:\n",
    "\n",
    "from abc import ABC\n",
    "\n",
    "\n",
    "class AbstractClassName(ABC):\n",
    "    pass\n",
    "\n",
    "#### To define an abstract method, you use the @abstractmethod decorator:\n",
    "\n",
    "from abc import ABC, abstractmethod\n",
    "\n",
    "\n",
    "class AbstractClassName(ABC):\n",
    "    @abstractmethod\n",
    "    def abstract_method_name(self):\n",
    "        pass\n",
    "    \n",
    "  \n",
    "    \n",
    "\n",
    "When to use abstract classes?\n",
    "In practice, you use abstract classes to share the code among several closely related classes. \n",
    "In the payroll program, all subclasses of the Employee class share the same full_name property.\n"
   ]
  },
  {
   "cell_type": "code",
   "execution_count": 51,
   "id": "60d8873b",
   "metadata": {},
   "outputs": [
    {
     "name": "stdout",
     "output_type": "stream",
     "text": [
      "Welcome to bank\n",
      "Balance is 100\n",
      "In sbi bank interest is 5 rupees\n"
     ]
    }
   ],
   "source": [
    "from abc import ABC, abstractmethod\n",
    "\n",
    "#Abstract Class\n",
    "class Bank(ABC):\n",
    "    def bank_info(self):\n",
    "        print(\"Welcome to bank\")\n",
    "    @abstractmethod\n",
    "    def interest(self):\n",
    "        \"Abstarct Method\"\n",
    "        pass\n",
    "#Sub class/ child class of abstract class\n",
    "class SBI(Bank):\n",
    "\n",
    "    def balance(self):\n",
    "        print(\"Balance is 100\")\n",
    "\n",
    "class Sub1(SBI):\n",
    "    def interest(self):\n",
    "        print(\"In sbi bank interest is 5 rupees\")\n",
    "\n",
    "s= Sub1()\n",
    "s.bank_info ()\n",
    "s.balance()\n",
    "s.interest()"
   ]
  },
  {
   "cell_type": "markdown",
   "id": "33b22d7a",
   "metadata": {},
   "source": [
    "### Multiple Inheritance"
   ]
  },
  {
   "cell_type": "markdown",
   "id": "edd58bed",
   "metadata": {},
   "source": [
    "When a class inherits from a single class, you have single inheritance. \n",
    "Python allows a class to inherit from multiple classes.\n",
    "If a class inherits from two or more classes, you’ll have multiple inheritance.\n",
    "\n",
    "To extend multiple classes, you specify the parent classes inside the parentheses () after the class name of the child class\n",
    "\n",
    "like this:\n",
    "\n",
    "class ChildClass(ParentClass1, ParentClass2, ParentClass3):\n",
    "   pass\n",
    "\n",
    "\n",
    "The syntax for multiple inheritance is similar to a parameter list in the class definition.\n",
    "Instead of including one parent class inside the parentheses, you include two or more classes, separated by a comma.\n",
    "example:"
   ]
  },
  {
   "cell_type": "code",
   "execution_count": 13,
   "id": "81f8d018",
   "metadata": {},
   "outputs": [],
   "source": [
    "class Car:\n",
    "    def go(self):\n",
    "        print('Going')\n",
    "\n",
    "class Flyable:\n",
    "    def fly(self):\n",
    "        print('Flying')\n",
    "        \n",
    "#FlyingCar that inherits from both Car and Flyable classes:\n",
    "\n",
    "class FlyingCar(Flyable, Car):\n",
    "    pass\n",
    "\n"
   ]
  },
  {
   "cell_type": "markdown",
   "id": "a21fa060",
   "metadata": {},
   "source": [
    "Since the FlyingCar inherits from Car and Flyable classes, it reuses the methods from those classes. \n",
    "It means you can call the go() and fly() methods on an instance of the FlyingCar class \n",
    "\n",
    "like this:"
   ]
  },
  {
   "cell_type": "code",
   "execution_count": 14,
   "id": "2c4f6598",
   "metadata": {},
   "outputs": [
    {
     "name": "stdout",
     "output_type": "stream",
     "text": [
      "Going\n",
      "Flying\n"
     ]
    }
   ],
   "source": [
    "\n",
    "\n",
    "if __name__ == '__main__':\n",
    "    fc = FlyingCar()\n",
    "    fc.go()\n",
    "    fc.fly()\n",
    "\n",
    "    \n",
    "    \n"
   ]
  },
  {
   "cell_type": "markdown",
   "id": "8466cfed",
   "metadata": {},
   "source": [
    "#### Method resolution order (MRO)\n",
    "When the parent classes have methods with the same name and the child class calls the method, \n",
    "Python uses the method resolution order (MRO) to search for the right method to call.\n",
    "First, add the start() method to the Car, Flyable, and FlyingCar classes.\n",
    "In the start() method of the FlyingCar class, call the start() method of the super():"
   ]
  },
  {
   "cell_type": "code",
   "execution_count": 19,
   "id": "e6cd2c7f",
   "metadata": {},
   "outputs": [
    {
     "name": "stdout",
     "output_type": "stream",
     "text": [
      "Start the Flyable object\n"
     ]
    }
   ],
   "source": [
    "\n",
    "\n",
    "class Car:\n",
    "    def start(self):\n",
    "        print('Start the Car')\n",
    "\n",
    "    def go(self):\n",
    "        print('Going')\n",
    "\n",
    "\n",
    "class Flyable:\n",
    "    def start(self):\n",
    "        print('Start the Flyable object')\n",
    "\n",
    "    def fly(self):\n",
    "        print('Flying')\n",
    "\n",
    "\n",
    "class FlyingCar(Flyable, Car):\n",
    "    def start(self):\n",
    "        super().start()\n",
    "\n",
    "# an instance of the FlyingCar class and call the start() method:\n",
    "\n",
    "if __name__ == '__main__':\n",
    "    car = FlyingCar()\n",
    "    car.start()\n",
    "\n",
    "# the super().start() calls the start() method of the Flyable class.\n",
    "\n",
    "\n",
    "\n",
    "\n",
    "\n",
    "\n"
   ]
  },
  {
   "cell_type": "code",
   "execution_count": 20,
   "id": "bd105f2a",
   "metadata": {},
   "outputs": [
    {
     "name": "stdout",
     "output_type": "stream",
     "text": [
      "(<class '__main__.FlyingCar'>, <class '__main__.Flyable'>, <class '__main__.Car'>, <class 'object'>)\n"
     ]
    }
   ],
   "source": [
    "print(FlyingCar.__mro__)"
   ]
  },
  {
   "cell_type": "markdown",
   "id": "23b1aea6",
   "metadata": {},
   "source": [
    "Note that the Car and Flyable objects inherit from the object class implicitly.\n",
    "When call the start() method from the FlyingCar‘s object, Python uses the __mro__ class search path.\n",
    "\n",
    "Since the Flyable class is next to the FlyingCar class, the super().start() calls the start() method of the FlyingCar class.\n",
    "\n",
    "If  flip the order of Flyable and Car classes in the list, the __mro__ will change accordingly. For example:\n",
    "\n",
    " Car, Flyable classes..."
   ]
  },
  {
   "cell_type": "code",
   "execution_count": 16,
   "id": "222fbf59",
   "metadata": {},
   "outputs": [
    {
     "name": "stdout",
     "output_type": "stream",
     "text": [
      "Start the Car\n",
      "(<class '__main__.FlyingCar'>, <class '__main__.Car'>, <class '__main__.Flyable'>, <class 'object'>)\n"
     ]
    }
   ],
   "source": [
    "class FlyingCar(Car, Flyable):\n",
    "    def start(self):\n",
    "        super().start()\n",
    "\n",
    "\n",
    "if __name__ == '__main__':\n",
    "    car = FlyingCar()\n",
    "    car.start()\n",
    "\n",
    "    print(FlyingCar.__mro__)"
   ]
  },
  {
   "cell_type": "markdown",
   "id": "af414d3b",
   "metadata": {},
   "source": [
    "\n",
    "In this example, the super().start() calls the start() method of the Car class instead, \n",
    "based on their orders in the method order resolution.\n",
    "\n",
    "Multiple inheritance & super\n",
    "First, add the __init__ method to the Car class:"
   ]
  },
  {
   "cell_type": "code",
   "execution_count": 17,
   "id": "c975c4ed",
   "metadata": {},
   "outputs": [],
   "source": [
    "\n",
    "class Car:\n",
    "    def __init__(self, door, wheel):\n",
    "        self.door = door\n",
    "        self.wheel = wheel\n",
    "\n",
    "    def start(self):\n",
    "        print('Start the Car')\n",
    "\n",
    "    def go(self):\n",
    "        print('Going')\n",
    "\n",
    "\n",
    "class Flyable:\n",
    "    def __init__(self, wing):\n",
    "        self.wing = wing\n",
    "\n",
    "    def start(self):\n",
    "        print('Start the Flyable object')\n",
    "\n",
    "    def fly(self):\n",
    "        print('Flying')\n",
    "\n",
    "        "
   ]
  },
  {
   "cell_type": "markdown",
   "id": "744c46ca",
   "metadata": {},
   "source": [
    "\n",
    "The __init__ of the Car and Flyable classes accept a different number of parameters. \n",
    "If the FlyingCar class inherits from the Car and Flyable classes,\n",
    "its __init__ method needs to call the right __init__ method specified in the method order resolution __mro__ of the FlyingCar class.\n"
   ]
  },
  {
   "cell_type": "code",
   "execution_count": 18,
   "id": "250b5fbc",
   "metadata": {},
   "outputs": [],
   "source": [
    "class FlyingCar(Flyable, Car):\n",
    "    def __init__(self, door, wheel, wing):\n",
    "        super().__init__(wing=wing)\n",
    "        self.door = door\n",
    "        self.wheel = wheel\n",
    "\n",
    "    def start(self):\n",
    "        super().start()"
   ]
  },
  {
   "cell_type": "markdown",
   "id": "2c91d846",
   "metadata": {},
   "source": [
    "the super().__init__() calls the __init__ of the FlyingCar class.\n",
    "Therefore, you need to pass the wing argument to the __init__ method.\n",
    "\n",
    "Because the FlyingCar class cannot access the __init__ method of the Car class, \n",
    "you need to initialize the doorand wheel attributes individually.\n",
    "\n",
    "Python multiple inheritance allows one class to inherit from multiple classes.\n",
    "The method order resolution defines the class search path to find the method to call.\n"
   ]
  },
  {
   "cell_type": "markdown",
   "id": "5341ddc9",
   "metadata": {},
   "source": [
    "### Decorator"
   ]
  },
  {
   "cell_type": "markdown",
   "id": "a2dc462d",
   "metadata": {},
   "source": [
    "\n",
    "A decorator in Python is a function that takes another function as an argument,\n",
    "while not changing the function being used as an argument.\n",
    "Decorators dynamically alter the functionality of a function without using sub classes.\n",
    "This is useful when you want to extend the functionality of functions and don’t want to modify them."
   ]
  },
  {
   "cell_type": "code",
   "execution_count": 12,
   "id": "37abe79a",
   "metadata": {},
   "outputs": [
    {
     "name": "stdout",
     "output_type": "stream",
     "text": [
      "Hello, this is before function execution\n",
      "This is inside the function !!\n",
      "This is after function execution\n"
     ]
    }
   ],
   "source": [
    "# defining a decorator\n",
    "def hello_decorator(func):\n",
    "    def inner1():\n",
    "        print(\"Hello, this is before function execution\")\n",
    "\n",
    "        func()\n",
    "\n",
    "        print(\"This is after function execution\")\n",
    "\n",
    "    return inner1\n",
    "\n",
    "def function_to_be_used():\n",
    "    print(\"This is inside the function !!\")\n",
    "\n",
    "function_to_be_used = hello_decorator(function_to_be_used)\n",
    "\n",
    "function_to_be_used()\n"
   ]
  },
  {
   "cell_type": "code",
   "execution_count": null,
   "id": "9885769c",
   "metadata": {},
   "outputs": [],
   "source": []
  }
 ],
 "metadata": {
  "kernelspec": {
   "display_name": "Python 3 (ipykernel)",
   "language": "python",
   "name": "python3"
  },
  "language_info": {
   "codemirror_mode": {
    "name": "ipython",
    "version": 3
   },
   "file_extension": ".py",
   "mimetype": "text/x-python",
   "name": "python",
   "nbconvert_exporter": "python",
   "pygments_lexer": "ipython3",
   "version": "3.9.12"
  }
 },
 "nbformat": 4,
 "nbformat_minor": 5
}
