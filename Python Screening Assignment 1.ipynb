{
 "cells": [
  {
   "cell_type": "code",
   "execution_count": 37,
   "id": "91209034",
   "metadata": {},
   "outputs": [],
   "source": [
    "def readFileReplaceText(filename, oldcontent, newcontent):\n",
    "    with open(filename) as f:\n",
    "        s = f.read()\n",
    "        if oldcontent not in s:\n",
    "            print('\"{oldcontent}\" not found in {filename}.'.format(**locals()))\n",
    "            return\n",
    "\n",
    "    with open(filename, 'w') as f:\n",
    "        print('Changing \"{oldcontent}\" to \"{newcontent}\" in {filename}'.format(**locals()))\n",
    "        s = s.replace(oldcontent, newcontent)\n",
    "        f.write(s)"
   ]
  },
  {
   "cell_type": "code",
   "execution_count": 38,
   "id": "8643c3e8",
   "metadata": {},
   "outputs": [
    {
     "name": "stdout",
     "output_type": "stream",
     "text": [
      "Changing \"screening\" to \"placement\" in example.txt\n"
     ]
    }
   ],
   "source": [
    "inplace_change('example.txt','screening','placement')"
   ]
  },
  {
   "cell_type": "code",
   "execution_count": null,
   "id": "1ff817f2",
   "metadata": {},
   "outputs": [],
   "source": []
  }
 ],
 "metadata": {
  "kernelspec": {
   "display_name": "Python 3 (ipykernel)",
   "language": "python",
   "name": "python3"
  },
  "language_info": {
   "codemirror_mode": {
    "name": "ipython",
    "version": 3
   },
   "file_extension": ".py",
   "mimetype": "text/x-python",
   "name": "python",
   "nbconvert_exporter": "python",
   "pygments_lexer": "ipython3",
   "version": "3.9.12"
  }
 },
 "nbformat": 4,
 "nbformat_minor": 5
}
